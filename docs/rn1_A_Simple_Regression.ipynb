{
  "nbformat": 4,
  "nbformat_minor": 0,
  "metadata": {
    "kernelspec": {
      "display_name": "R",
      "language": "R",
      "name": "ir"
    },
    "language_info": {
      "codemirror_mode": "r",
      "file_extension": ".r",
      "mimetype": "text/x-r-source",
      "name": "R",
      "pygments_lexer": "r",
      "version": "3.5.0"
    },
    "colab": {
      "name": "rn1 A Simple Regression",
      "version": "0.3.2",
      "provenance": [],
      "collapsed_sections": []
    }
  },
  "cells": [
    {
      "cell_type": "markdown",
      "metadata": {
        "id": "a9851aPLtFxK",
        "colab_type": "text"
      },
      "source": [
        "# 1. Data Import and Manipulation\n",
        "\n",
        "We first import a dataset from the workshop website. We then briefly inspecting the data. Last, we create a new column `lwage` in preparation for a simple regression."
      ]
    },
    {
      "cell_type": "code",
      "metadata": {
        "id": "_Fb_txBt_y_J",
        "colab_type": "code",
        "colab": {}
      },
      "source": [
        "# load data\n",
        "data_url <- \"https://tdmdal.github.io/r-workshop-researchers/data/mroz_1987.csv\"\n",
        "mroz_1987 <- read.csv(data_url)"
      ],
      "execution_count": 0,
      "outputs": []
    },
    {
      "cell_type": "code",
      "metadata": {
        "id": "V138ixeH_y_S",
        "colab_type": "code",
        "colab": {}
      },
      "source": [
        "# take a look at the structure of the data\n",
        "str(mroz_1987)"
      ],
      "execution_count": 0,
      "outputs": []
    },
    {
      "cell_type": "code",
      "metadata": {
        "id": "_2aBKG0B_y_X",
        "colab_type": "code",
        "colab": {}
      },
      "source": [
        "# print the first few rows of the dataset\n",
        "head(mroz_1987)"
      ],
      "execution_count": 0,
      "outputs": []
    },
    {
      "cell_type": "code",
      "metadata": {
        "id": "ohlnFmav_6k0",
        "colab_type": "code",
        "colab": {}
      },
      "source": [
        "# create log wage\n",
        "mroz_1987[\"lwage\"] <- log(mroz_1987[\"wage\"])"
      ],
      "execution_count": 0,
      "outputs": []
    },
    {
      "cell_type": "markdown",
      "metadata": {
        "id": "iltXOxDyt8uD",
        "colab_type": "text"
      },
      "source": [
        "# 2. Modelling\n",
        "\n",
        "We will run a simple regression: $log(wage) = \\beta_0 + \\beta_1educ + u$."
      ]
    },
    {
      "cell_type": "code",
      "metadata": {
        "id": "L9nHLj68C9U4",
        "colab_type": "code",
        "colab": {}
      },
      "source": [
        "# setup a regression model\n",
        "lr <- lm(formula = lwage ~ educ, data = mroz_1987)"
      ],
      "execution_count": 0,
      "outputs": []
    },
    {
      "cell_type": "markdown",
      "metadata": {
        "id": "jpTzhDU8uNEc",
        "colab_type": "text"
      },
      "source": [
        "# 3. Report & Graph\n",
        "\n",
        "We report the regression result, and plot a few graphs."
      ]
    },
    {
      "cell_type": "code",
      "metadata": {
        "id": "9b4OtC34muGS",
        "colab_type": "code",
        "colab": {}
      },
      "source": [
        "# report regression result\n",
        "summary(lr)"
      ],
      "execution_count": 0,
      "outputs": []
    },
    {
      "cell_type": "code",
      "metadata": {
        "id": "whXlXzX5FQnE",
        "colab_type": "code",
        "colab": {}
      },
      "source": [
        "# plot data and regression line\n",
        "par(mfrow = c(1, 1))\n",
        "plot(mroz_1987[c(\"educ\", \"lwage\")])\n",
        "abline(coef(lr))"
      ],
      "execution_count": 0,
      "outputs": []
    },
    {
      "cell_type": "code",
      "metadata": {
        "id": "evZbiypPmtWh",
        "colab_type": "code",
        "colab": {}
      },
      "source": [
        "# plot a few other things\n",
        "par(mfrow = c(2, 2))\n",
        "plot(lr)"
      ],
      "execution_count": 0,
      "outputs": []
    },
    {
      "cell_type": "code",
      "metadata": {
        "id": "EDc6aVaPOaxN",
        "colab_type": "code",
        "colab": {}
      },
      "source": [
        ""
      ],
      "execution_count": 0,
      "outputs": []
    }
  ]
}