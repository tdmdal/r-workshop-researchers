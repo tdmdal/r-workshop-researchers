{
  "nbformat": 4,
  "nbformat_minor": 0,
  "metadata": {
    "kernelspec": {
      "display_name": "R",
      "language": "R",
      "name": "ir"
    },
    "language_info": {
      "codemirror_mode": "r",
      "file_extension": ".r",
      "mimetype": "text/x-r-source",
      "name": "R",
      "pygments_lexer": "r",
      "version": "3.5.0"
    },
    "colab": {
      "name": "rn1 A Simple Regression",
      "version": "0.3.2",
      "provenance": [],
      "collapsed_sections": []
    }
  },
  "cells": [
    {
      "cell_type": "markdown",
      "metadata": {
        "id": "a9851aPLtFxK",
        "colab_type": "text"
      },
      "source": [
        "# 1. Data Import and Manipulation\n",
        "\n",
        "We first import a dataset from the workshop website. This is a dataset on married women labor force participation used in [Mroz 1987](http://unionstats.gsu.edu/9220/Mroz_Econometrica_LaborSupply_1987.pdf). The dataset is also used throughout Wooldridge's text book: Introductory Econometrics: A Modern Approach. After briefly inspecting the data, we create a new column `lwage` in preparation for a simple regression."
      ]
    },
    {
      "cell_type": "code",
      "metadata": {
        "id": "_Fb_txBt_y_J",
        "colab_type": "code",
        "colab": {}
      },
      "source": [
        "# load data\n",
        "data_url <- \"https://tdmdal.github.io/r-workshop-researchers/data/mroz_1987.csv\"\n",
        "mroz_1987 <- read.csv(data_url)"
      ],
      "execution_count": 0,
      "outputs": []
    },
    {
      "cell_type": "code",
      "metadata": {
        "id": "V138ixeH_y_S",
        "colab_type": "code",
        "colab": {}
      },
      "source": [
        "# take a look at the structure of the data\n",
        "str(mroz_1987)"
      ],
      "execution_count": 0,
      "outputs": []
    },
    {
      "cell_type": "markdown",
      "metadata": {
        "id": "vZqiTW3388-G",
        "colab_type": "text"
      },
      "source": [
        "See a description of the data columns [here](https://justinmshea.github.io/wooldridge/reference/mroz.html)."
      ]
    },
    {
      "cell_type": "code",
      "metadata": {
        "id": "_2aBKG0B_y_X",
        "colab_type": "code",
        "colab": {}
      },
      "source": [
        "# print the first few rows of the dataset\n",
        "head(mroz_1987)"
      ],
      "execution_count": 0,
      "outputs": []
    },
    {
      "cell_type": "code",
      "metadata": {
        "id": "ohlnFmav_6k0",
        "colab_type": "code",
        "colab": {}
      },
      "source": [
        "# create log wage\n",
        "mroz_1987[\"lwage\"] <- log(mroz_1987[\"wage\"])"
      ],
      "execution_count": 0,
      "outputs": []
    },
    {
      "cell_type": "markdown",
      "metadata": {
        "id": "iltXOxDyt8uD",
        "colab_type": "text"
      },
      "source": [
        "# 2. Modelling\n",
        "\n",
        "We will run a simple regression to investigate return on education for married women: $log(wage) = \\beta_0 + \\beta_1educ + u$."
      ]
    },
    {
      "cell_type": "code",
      "metadata": {
        "id": "L9nHLj68C9U4",
        "colab_type": "code",
        "colab": {}
      },
      "source": [
        "# setup a regression model\n",
        "lr <- lm(formula = lwage ~ educ, data = mroz_1987)"
      ],
      "execution_count": 0,
      "outputs": []
    },
    {
      "cell_type": "markdown",
      "metadata": {
        "id": "jpTzhDU8uNEc",
        "colab_type": "text"
      },
      "source": [
        "# 3. Report & Graph\n",
        "\n",
        "We report the regression result, and plot a few graphs."
      ]
    },
    {
      "cell_type": "code",
      "metadata": {
        "id": "9b4OtC34muGS",
        "colab_type": "code",
        "colab": {}
      },
      "source": [
        "# report regression result\n",
        "summary(lr)"
      ],
      "execution_count": 0,
      "outputs": []
    },
    {
      "cell_type": "code",
      "metadata": {
        "id": "whXlXzX5FQnE",
        "colab_type": "code",
        "colab": {}
      },
      "source": [
        "# plot data and regression line\n",
        "par(mfrow = c(1, 1))\n",
        "plot(mroz_1987[c(\"educ\", \"lwage\")])\n",
        "abline(coef(lr))"
      ],
      "execution_count": 0,
      "outputs": []
    },
    {
      "cell_type": "code",
      "metadata": {
        "id": "evZbiypPmtWh",
        "colab_type": "code",
        "colab": {}
      },
      "source": [
        "# plot a few other things\n",
        "par(mfrow = c(2, 2))\n",
        "plot(lr)"
      ],
      "execution_count": 0,
      "outputs": []
    },
    {
      "cell_type": "code",
      "metadata": {
        "id": "EDc6aVaPOaxN",
        "colab_type": "code",
        "colab": {}
      },
      "source": [
        ""
      ],
      "execution_count": 0,
      "outputs": []
    }
  ]
}